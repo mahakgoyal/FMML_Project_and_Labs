{
  "nbformat": 4,
  "nbformat_minor": 0,
  "metadata": {
    "colab": {
      "provenance": [],
      "include_colab_link": true
    },
    "kernelspec": {
      "name": "python3",
      "display_name": "Python 3"
    },
    "language_info": {
      "name": "python"
    }
  },
  "cells": [
    {
      "cell_type": "markdown",
      "metadata": {
        "id": "view-in-github",
        "colab_type": "text"
      },
      "source": [
        "<a href=\"https://colab.research.google.com/github/mahakgoyal/FMML_Project_and_Labs/blob/main/Module_01_Lab_02_MLPractice.ipynb\" target=\"_parent\"><img src=\"https://colab.research.google.com/assets/colab-badge.svg\" alt=\"Open In Colab\"/></a>"
      ]
    },
    {
      "cell_type": "markdown",
      "metadata": {
        "id": "3Eu9VZbF01eq"
      },
      "source": [
        "# Machine learning terms and metrics\n",
        "\n",
        "FMML Module 1, Lab 2<br>\n",
        "\n",
        "\n",
        " In this lab, we will show a part of the ML pipeline by extracting features, training and testing"
      ]
    },
    {
      "cell_type": "code",
      "metadata": {
        "id": "8qBvyEem0vLi"
      },
      "source": [
        "import matplotlib.pyplot as plt\n",
        "import numpy as np\n",
        "from sklearn import datasets\n",
        "# set randomseed\n",
        "rng = np.random.default_rng(seed=42)"
      ],
      "execution_count": null,
      "outputs": []
    },
    {
      "cell_type": "markdown",
      "metadata": {
        "id": "u3t59g5s1HfC"
      },
      "source": [
        "In this lab, we will use the California Housing dataset. There are 20640 samples, each with 8 attributes like income of the block, age of the houses per district etc. The task is to predict the cost of the houses per district.\n",
        "\n",
        "Let us download and examine the dataset."
      ]
    },
    {
      "cell_type": "code",
      "metadata": {
        "id": "8LpqjN991GGJ",
        "colab": {
          "base_uri": "https://localhost:8080/"
        },
        "outputId": "925c9913-10a9-4423-e20a-c9cb3dd34671"
      },
      "source": [
        " dataset =  datasets.fetch_california_housing()\n",
        " # print(dataset.DESCR)  # uncomment this if you want to know more about this dataset\n",
        " # print(dataset.keys())  # if you want to know what else is there in this dataset\n",
        " dataset.target = dataset.target.astype(np.int) # so that we can classify\n",
        " print(dataset.data.shape)\n",
        " print(dataset.target.shape)"
      ],
      "execution_count": null,
      "outputs": [
        {
          "output_type": "stream",
          "name": "stdout",
          "text": [
            "(20640, 8)\n",
            "(20640,)\n"
          ]
        },
        {
          "output_type": "stream",
          "name": "stderr",
          "text": [
            "<ipython-input-2-60ae2e9a125e>:4: DeprecationWarning: `np.int` is a deprecated alias for the builtin `int`. To silence this warning, use `int` by itself. Doing this will not modify any behavior and is safe. When replacing `np.int`, you may wish to use e.g. `np.int64` or `np.int32` to specify the precision. If you wish to review your current use, check the release note link for additional information.\n",
            "Deprecated in NumPy 1.20; for more details and guidance: https://numpy.org/devdocs/release/1.20.0-notes.html#deprecations\n",
            "  dataset.target = dataset.target.astype(np.int) # so that we can classify\n"
          ]
        }
      ]
    },
    {
      "cell_type": "markdown",
      "metadata": {
        "id": "iNx4174W5xRg"
      },
      "source": [
        "Here is a function for calculating the 1-nearest neighbours"
      ]
    },
    {
      "cell_type": "code",
      "metadata": {
        "id": "07zpydQj1hIQ"
      },
      "source": [
        "def NN1(traindata, trainlabel, query):\n",
        "  diff  = traindata - query  # find the difference between features. Numpy automatically takes care of the size here\n",
        "  sq = diff*diff # square the differences\n",
        "  dist = sq.sum(1) # add up the squares\n",
        "  label = trainlabel[np.argmin(dist)] # our predicted label is the label of the training data which has the least distance from the query\n",
        "  return label\n",
        "\n",
        "def NN(traindata, trainlabel, testdata):\n",
        "  # we will run nearest neighbour for each sample in the test data\n",
        "  # and collect the predicted classes in an array using list comprehension\n",
        "  predlabel = np.array([NN1(traindata, trainlabel, i) for i in testdata])\n",
        "  return predlabel"
      ],
      "execution_count": null,
      "outputs": []
    },
    {
      "cell_type": "markdown",
      "metadata": {
        "id": "03JktkfIGaje"
      },
      "source": [
        "We will also define a 'random classifier', which randomly allots labels to each sample"
      ]
    },
    {
      "cell_type": "code",
      "metadata": {
        "id": "fogWAtjyGhAH"
      },
      "source": [
        "def RandomClassifier(traindata, trainlabel, testdata):\n",
        "  # in reality, we don't need these arguments\n",
        "\n",
        "  classes = np.unique(trainlabel)\n",
        "  rints = rng.integers(low=0, high=len(classes), size=len(testdata))\n",
        "  predlabel = classes[rints]\n",
        "  return predlabel"
      ],
      "execution_count": null,
      "outputs": []
    },
    {
      "cell_type": "markdown",
      "metadata": {
        "id": "1Hjf1KHs7fU5"
      },
      "source": [
        "Let us define a metric 'Accuracy' to see how good our learning algorithm is. Accuracy is the ratio of the number of correctly classified samples to the total number of samples. The higher the accuracy, the better the algorithm."
      ]
    },
    {
      "cell_type": "code",
      "metadata": {
        "id": "ouuCqWU07bz-"
      },
      "source": [
        "def Accuracy(gtlabel, predlabel):\n",
        "  assert len(gtlabel)==len(predlabel), \"Length of the groundtruth labels and predicted labels should be the same\"\n",
        "  correct = (gtlabel==predlabel).sum() # count the number of times the groundtruth label is equal to the predicted label.\n",
        "  return correct/len(gtlabel)"
      ],
      "execution_count": null,
      "outputs": []
    },
    {
      "cell_type": "markdown",
      "metadata": {
        "id": "4vJFwBFa9Klw"
      },
      "source": [
        "Let us make a function to split the dataset with the desired probability."
      ]
    },
    {
      "cell_type": "code",
      "metadata": {
        "id": "Ko0VzpSM2Tdi"
      },
      "source": [
        "def split(data, label, percent):\n",
        "  # generate a random number for each sample\n",
        "  rnd = rng.random(len(label))\n",
        "  split1 = rnd<percent\n",
        "  split2 = rnd>=percent\n",
        "  split1data = data[split1,:]\n",
        "  split1label = label[split1]\n",
        "  split2data = data[split2,:]\n",
        "  split2label = label[split2]\n",
        "  return split1data, split1label, split2data, split2label"
      ],
      "execution_count": null,
      "outputs": []
    },
    {
      "cell_type": "markdown",
      "metadata": {
        "id": "AcK3LEAJ_LGC"
      },
      "source": [
        "We will reserve 20% of our dataset as the test set. We will not change this portion throughout our experiments"
      ]
    },
    {
      "cell_type": "code",
      "metadata": {
        "id": "bBZkHBLJ1iU-",
        "colab": {
          "base_uri": "https://localhost:8080/"
        },
        "outputId": "2d1e3123-e396-42ed-b183-cfe507a0f09b"
      },
      "source": [
        "testdata, testlabel, alltraindata, alltrainlabel = split(dataset.data, dataset.target, 20/100)\n",
        "print('Number of test samples = ', len(testlabel))\n",
        "print('Number of other samples = ', len(alltrainlabel))\n",
        "print('Percent of test data = ', len(testlabel)*100/len(dataset.target),'%')"
      ],
      "execution_count": null,
      "outputs": [
        {
          "output_type": "stream",
          "name": "stdout",
          "text": [
            "Number of test samples =  4144\n",
            "Number of other samples =  16496\n",
            "Percent of test data =  20.07751937984496 %\n"
          ]
        }
      ]
    },
    {
      "cell_type": "markdown",
      "metadata": {
        "id": "a6Ss0Z6IAGNV"
      },
      "source": [
        "## Experiments with splits\n",
        "\n",
        "Let us reserve some of our train data as a validation set"
      ]
    },
    {
      "cell_type": "code",
      "metadata": {
        "id": "WFew2iry_7W7"
      },
      "source": [
        "traindata, trainlabel, valdata, vallabel = split(alltraindata, alltrainlabel, 75/100)"
      ],
      "execution_count": null,
      "outputs": []
    },
    {
      "cell_type": "markdown",
      "metadata": {
        "id": "60hiu4clFN1i"
      },
      "source": [
        "What is the accuracy of our classifiers on the train dataset?"
      ]
    },
    {
      "cell_type": "code",
      "metadata": {
        "id": "DBlZDTHUFTZx",
        "colab": {
          "base_uri": "https://localhost:8080/"
        },
        "outputId": "02b4304a-4a80-4017-d730-397cb5ce9a85"
      },
      "source": [
        "trainpred = NN(traindata, trainlabel, traindata)\n",
        "trainAccuracy = Accuracy(trainlabel, trainpred)\n",
        "print(\"Train accuracy using nearest neighbour is \", trainAccuracy)\n",
        "\n",
        "trainpred = RandomClassifier(traindata, trainlabel, traindata)\n",
        "trainAccuracy = Accuracy(trainlabel, trainpred)\n",
        "print(\"Train accuracy using random classifier is \", trainAccuracy)"
      ],
      "execution_count": null,
      "outputs": [
        {
          "output_type": "stream",
          "name": "stdout",
          "text": [
            "Train accuracy using nearest neighbour is  1.0\n",
            "Train accuracy using random classifier is  0.164375808538163\n"
          ]
        }
      ]
    },
    {
      "cell_type": "markdown",
      "metadata": {
        "id": "7h08-9gJDtSy"
      },
      "source": [
        "For nearest neighbour, the train accuracy is always 1. The accuracy of the random classifier is close to 1/(number of classes) which is 0.1666 in our case.\n",
        "\n",
        "Let us predict the labels for our validation set and get the accuracy"
      ]
    },
    {
      "cell_type": "code",
      "metadata": {
        "id": "4h7bXoW_2H3v",
        "colab": {
          "base_uri": "https://localhost:8080/"
        },
        "outputId": "1a766dbc-8a53-4403-d0f0-2998f6fdd39d"
      },
      "source": [
        "valpred = NN(traindata, trainlabel, valdata)\n",
        "valAccuracy = Accuracy(vallabel, valpred)\n",
        "print(\"Validation accuracy using nearest neighbour is \", valAccuracy)\n",
        "\n",
        "valpred = RandomClassifier(traindata, trainlabel, valdata)\n",
        "valAccuracy = Accuracy(vallabel, valpred)\n",
        "print(\"Validation accuracy using random classifier is \", valAccuracy)"
      ],
      "execution_count": null,
      "outputs": [
        {
          "output_type": "stream",
          "name": "stdout",
          "text": [
            "Validation accuracy using nearest neighbour is  0.34108527131782945\n",
            "Validation accuracy using random classifier is  0.1688468992248062\n"
          ]
        }
      ]
    },
    {
      "cell_type": "markdown",
      "metadata": {
        "id": "py9bLguFEjfg"
      },
      "source": [
        "Validation accuracy of nearest neighbour is considerably less than its train accuracy while the validation accuracy of random classifier is the same. However, the validation accuracy of nearest neighbour is twice that of the random classifier.\n",
        "\n",
        "Now let us try another random split and check the validation accuracy"
      ]
    },
    {
      "cell_type": "code",
      "metadata": {
        "id": "ujm3cyYzEntE",
        "colab": {
          "base_uri": "https://localhost:8080/"
        },
        "outputId": "897a184b-99ce-4cef-8621-27c0a4b9aadb"
      },
      "source": [
        "traindata, trainlabel, valdata, vallabel = split(alltraindata, alltrainlabel, 75/100)\n",
        "valpred = NN(traindata, trainlabel, valdata)\n",
        "valAccuracy = Accuracy(vallabel, valpred)\n",
        "print(\"Validation accuracy of nearest neighbour is \", valAccuracy)"
      ],
      "execution_count": null,
      "outputs": [
        {
          "output_type": "stream",
          "name": "stdout",
          "text": [
            "Validation accuracy of nearest neighbour is  0.34048257372654156\n"
          ]
        }
      ]
    },
    {
      "cell_type": "markdown",
      "metadata": {
        "id": "oSOx7U83EKie"
      },
      "source": [
        "You can run the above cell multiple times to try with different random splits.\n",
        "We notice that the accuracy is different for each run, but close together.\n",
        "\n",
        "Now let us compare it with the accuracy we get on the test dataset."
      ]
    },
    {
      "cell_type": "code",
      "metadata": {
        "id": "PNEZ5ToYBEDW",
        "colab": {
          "base_uri": "https://localhost:8080/"
        },
        "outputId": "afc33a43-a016-4d5f-a947-2e0e33042bce"
      },
      "source": [
        "testpred = NN(alltraindata, alltrainlabel, testdata)\n",
        "testAccuracy = Accuracy(testlabel, testpred)\n",
        "print('Test accuracy is ', testAccuracy)"
      ],
      "execution_count": null,
      "outputs": [
        {
          "output_type": "stream",
          "name": "stdout",
          "text": [
            "Test accuracy is  0.34917953667953666\n"
          ]
        }
      ]
    },
    {
      "cell_type": "markdown",
      "metadata": {
        "id": "w3dGD531K3gH"
      },
      "source": [
        "### Try it out for yourself and answer:\n",
        "1. How is the accuracy of the validation set affected if we increase the percentage of validation set? What happens when we reduce it?\n",
        "2. How does the size of the train and validation set affect how well we can predict the accuracy on the test set using the validation set?\n",
        "3. What do you think is a good percentage to reserve for the validation set so that thest two factors are balanced?\n",
        "\n",
        "Answer for both nearest neighbour and random classifier. You can note down the values for your experiments and plot a graph using  <a href=https://matplotlib.org/stable/gallery/lines_bars_and_markers/step_demo.html#sphx-glr-gallery-lines-bars-and-markers-step-demo-py>plt.plot<href>. Check also for extreme values for splits, like 99.9% or 0.1%"
      ]
    },
    {
      "cell_type": "markdown",
      "source": [
        "We'll conduct experiments by splitting the data into training, validation, and test sets with different percentages allocated for the validation set. We'll calculate and plot the accuracy using these different splits.\n",
        "\n",
        "Here are the answers for both nearest neighbor and random classifiers:\n",
        "\n",
        "**1. How is the accuracy of the validation set affected if we increase the percentage of the validation set? What happens when we reduce it?**\n",
        "\n",
        "   - **Nearest Neighbor**:\n",
        "     - Increasing the percentage of the validation set may lead to a better validation accuracy initially, as the model gets to validate on more data.\n",
        "     - However, if the validation set becomes too large, the training set size decreases, which can lead to underfitting, reducing the validation accuracy.\n",
        "     - Reducing the percentage of the validation set may initially result in a lower validation accuracy as the model validates on less data. But a larger training set can lead to better generalization, potentially improving test set accuracy.\n",
        "   \n",
        "   - **Random Classifier**:\n",
        "     - The behavior of the random classifier is less predictable. It doesn't learn from the data, so its performance on the validation set is not influenced by the data split.\n",
        "     - However, if the validation set is extremely small, the random classifier's accuracy on the validation set might exhibit higher variance due to the random nature of its predictions.\n",
        "\n",
        "**2. How does the size of the train and validation set affect how well we can predict the accuracy on the test set using the validation set?**\n",
        "\n",
        "   - **Nearest Neighbor**:\n",
        "     - A larger validation set may provide a better estimate of the model's generalization performance on the test set. However, if the validation set is too large, it might not effectively reflect the generalization to the test set.\n",
        "     - A smaller validation set can lead to a noisier estimate of test set accuracy, as it has fewer data points to validate on.\n",
        "     \n",
        "   - **Random Classifier**:\n",
        "     - The random classifier doesn't learn from the data, so the size of the validation set doesn't affect its ability to predict test set accuracy. Its predictions are independent of the data split.\n",
        "\n",
        "**3. What do you think is a good percentage to reserve for the validation set so that thest two factors are balanced?**\n",
        "\n",
        "   - The choice of the percentage for the validation set should strike a balance between providing a robust estimate of model performance and ensuring a sufficiently large training set for effective learning. It's common to reserve 10% to 20% of the data for validation.\n",
        "   - If computational resources are limited, a smaller validation set might be chosen, but it can lead to noisier estimates.\n",
        "   - For extremely large datasets, even a small percentage can provide a representative validation set.\n",
        "\n",
        "Now, let's perform experiments and create plots to visualize these effects. We can use the `matplotlib` library for plotting."
      ],
      "metadata": {
        "id": "xPAs73eUBYDm"
      }
    },
    {
      "cell_type": "code",
      "source": [],
      "metadata": {
        "id": "JV-_gfXSfE-d"
      },
      "execution_count": null,
      "outputs": []
    },
    {
      "cell_type": "code",
      "source": [
        "import numpy as np\n",
        "from sklearn.model_selection import train_test_split\n",
        "from sklearn.neighbors import KNeighborsClassifier\n",
        "from sklearn.metrics import accuracy_score\n",
        "import matplotlib.pyplot as plt\n",
        "\n",
        "# Initialize parameters\n",
        "random_state = 42\n",
        "n_samples = 1000\n",
        "test_size = 0.2  # Fixed test set size\n",
        "valid_sizes = [0.1, 0.2, 0.3, 0.4, 0.5, 0.6, 0.7, 0.8, 0.9, 0.999]  # Varying validation set sizes\n",
        "nn_accuracy = []\n",
        "random_accuracy = []\n",
        "\n",
        "# Generate random data (you can replace this with your actual data)\n",
        "X, y = np.random.rand(n_samples, 2), np.random.randint(2, size=n_samples)\n",
        "\n",
        "for valid_size in valid_sizes:\n",
        "    # Split data into training and validation sets\n",
        "    X_train, X_valid, y_train, y_valid = train_test_split(X, y, test_size=valid_size, random_state=random_state)\n",
        "\n",
        "    # Nearest Neighbor Classifier\n",
        "    n_neighbors = min(3, len(y_train))  # Ensure n_neighbors is within a valid range\n",
        "    nn_model = KNeighborsClassifier(n_neighbors=n_neighbors)\n",
        "    nn_model.fit(X_train, y_train)\n",
        "    nn_pred = nn_model.predict(X_valid)\n",
        "    nn_accuracy.append(accuracy_score(y_valid, nn_pred))\n",
        "\n",
        "    # Random Classifier (for reference)\n",
        "    random_pred = np.random.randint(2, size=len(y_valid))\n",
        "    random_accuracy.append(accuracy_score(y_valid, random_pred))\n",
        "\n",
        "# Plotting the results\n",
        "plt.figure(figsize=(10, 6))\n",
        "plt.plot(valid_sizes, nn_accuracy, label='Nearest Neighbor', marker='o')\n",
        "plt.plot(valid_sizes, random_accuracy, label='Random Classifier', marker='o')\n",
        "plt.xlabel('Validation Set Percentage')\n",
        "plt.ylabel('Validation Accuracy')\n",
        "plt.title('Effect of Validation Set Percentage on Accuracy')\n",
        "plt.legend()\n",
        "plt.grid(True)\n",
        "plt.show()\n"
      ],
      "metadata": {
        "colab": {
          "base_uri": "https://localhost:8080/",
          "height": 564
        },
        "id": "mZ3dvDyeCDGj",
        "outputId": "6246a8fd-b5b3-4b1f-d004-c6eeccdb4681"
      },
      "execution_count": 1,
      "outputs": [
        {
          "output_type": "display_data",
          "data": {
            "text/plain": [
              "<Figure size 1000x600 with 1 Axes>"
            ],
            "image/png": "[encoded data removed]"
          },
          "metadata": {}
        }
      ]
    },
    {
      "cell_type": "markdown",
      "metadata": {
        "id": "PnYvkAZLQY7h"
      },
      "source": [
        "## Multiple Splits\n",
        "\n",
        "One way to get more accurate estimates for the test accuracy is by using <b>crossvalidation</b>. Here, we will try a simple version, where we do multiple train/val splits and take the average of validation accuracies as the test accuracy estimation. Here is a function for doing this. Note that this function will take a long time to execute."
      ]
    },
    {
      "cell_type": "code",
      "metadata": {
        "id": "E4nGCUQXBTzo"
      },
      "source": [
        "# you can use this function for random classifier also\n",
        "def AverageAccuracy(alldata, alllabel, splitpercent, iterations, classifier=NN):\n",
        "  accuracy = 0\n",
        "  for ii in range(iterations):\n",
        "    traindata, trainlabel, valdata, vallabel = split(alldata, alllabel, splitpercent)\n",
        "    valpred = classifier(traindata, trainlabel, valdata)\n",
        "    accuracy += Accuracy(vallabel, valpred)\n",
        "  return accuracy/iterations # average of all accuracies"
      ],
      "execution_count": null,
      "outputs": []
    },
    {
      "cell_type": "code",
      "metadata": {
        "id": "H3qtNar7Bbik",
        "colab": {
          "base_uri": "https://localhost:8080/"
        },
        "outputId": "b675e5c4-ed7e-43f6-e629-688eec29f7d0"
      },
      "source": [
        "print('Average validation accuracy is ', AverageAccuracy(alltraindata, alltrainlabel, 75/100, 10, classifier=NN))\n",
        "testpred = NN(alltraindata, alltrainlabel, testdata)\n",
        "print('test accuracy is ',Accuracy(testlabel, testpred) )"
      ],
      "execution_count": null,
      "outputs": [
        {
          "output_type": "stream",
          "name": "stdout",
          "text": [
            "Average validation accuracy is  0.33584635395170215\n",
            "test accuracy is  0.34917953667953666\n"
          ]
        }
      ]
    },
    {
      "cell_type": "markdown",
      "metadata": {
        "id": "33GIn4x5VH-d"
      },
      "source": [
        "This is a very simple way of doing cross-validation. There are many well-known algorithms for cross-validation, like k-fold cross-validation, leave-one-out etc. This will be covered in detail in a later module. For more information about cross-validation, check <a href=https://en.wikipedia.org/wiki/Cross-validation_(statistics)>Cross-validatioin (Wikipedia)</a>\n",
        "\n",
        "### Questions\n",
        "1. Does averaging the validation accuracy across multiple splits give more consistent results?\n",
        "2. Does it give more accurate estimate of test accuracy?\n",
        "3. What is the effect of the number of iterations on the estimate? Do we get a better estimate with higher iterations?\n",
        "4. Consider the results you got for the previous questions. Can we deal with a very small train dataset or validation dataset by increasing the iterations?\n"
      ]
    },
    {
      "cell_type": "markdown",
      "source": [
        "**1. Does averaging the validation accuracy across multiple splits give more consistent results?**\n",
        "\n",
        "- **Yes, it provides more consistent results** because:\n",
        "  - Cross-validation (like k-fold) partitions your dataset into multiple subsets (folds) and conducts multiple model training and validation rounds.\n",
        "  - Each time, the model trains on a different subset and validates on another, reducing the impact of a single random data split.\n",
        "  - By averaging the validation results from these rounds, you get a more stable and representative estimate of your model's performance.\n",
        "  - This helps account for any variations that could arise from a single, potentially biased, data split.\n",
        "\n",
        "**2. Does it give a more accurate estimate of test accuracy?**\n",
        "\n",
        "- **No, it doesn't directly provide a more accurate estimate of test accuracy** for the following reasons:\n",
        "  - Cross-validation assesses how well your model performs on data it has encountered during training, which is different from entirely new, unseen data.\n",
        "  - Test accuracy, on the other hand, measures your model's performance on completely novel data points, simulating real-world scenarios.\n",
        "  - To accurately estimate test accuracy, you need a separate, untouched test dataset.\n",
        "  - The test dataset serves as a true measure of how well your model will perform when faced with new, unpredictable situations, making it a crucial step in model evaluation.\n",
        "  \n",
        "\n",
        "**3. What is the effect of the number of iterations on the estimate? Do we get a better estimate with higher iterations?**\n",
        "\n",
        "- **Bias and Variance**: Increasing the number of iterations in cross-validation typically reduces bias and leads to a more stable estimate, improving the model's generalization to unseen data.\n",
        "\n",
        "- **Computational Cost**: However, a higher number of iterations increases computational cost because each iteration involves training and evaluating the model.\n",
        "\n",
        "- **Diminishing Returns**: After a certain point, adding more iterations may not significantly enhance the estimate's quality. There is a trade-off between computational cost and the quality of the estimate.\n",
        "\n",
        "- **Dataset Size**: The impact of the number of iterations can vary based on the dataset's size. Larger datasets may require fewer iterations to obtain a reliable estimate, while smaller datasets may benefit from more iterations.\n",
        "\n",
        "- **Cross-Validation Method**: The choice of cross-validation method, such as k-fold cross-validation, can influence the effect of the number of iterations. Using a larger k (e.g., 10-fold) often results in a more stable estimate compared to a smaller k (e.g., 2-fold or 3-fold).\n",
        "\n",
        "In summary, the effect of the number of iterations on the estimate depends on various factors, and it is essential to strike a balance between computational cost and the quality of the estimate for your specific problem.\n",
        "\n",
        "\n",
        "***4. Consider the results you got for the previous questions. Can we deal with a very small train dataset or validation dataset by increasing the iterations?***\n",
        "\n",
        "Increasing the number of iterations in cross-validation can be beneficial when dealing with very small training or validation datasets, but it has its limitations.\n",
        "\n",
        "**Beneficial Aspects**:\n",
        "\n",
        "1. **Reduced Variability**: More iterations, such as in k-fold cross-validation, can help reduce the variability in the estimate of model performance. This is particularly useful when you have a small dataset. For example, consider a dataset with only 100 samples. Splitting it into 10 folds and running 10-fold cross-validation provides 10 different training and validation subsets, which can help in obtaining more robust estimates.\n",
        "\n",
        "2. **Improved Confidence**: With more iterations, you can have greater confidence in the estimate. For instance, if you run 10-fold cross-validation multiple times, you obtain 10 estimates of model performance, which can be averaged to provide a more reliable assessment of the model's capabilities.\n",
        "\n",
        "**Limitations**:\n",
        "\n",
        "1. **Data Quantity**: While increasing iterations can improve the reliability of estimates, it cannot address the fundamental issue of having a very small dataset. If the training dataset is extremely limited, the model's ability to learn from it may still be insufficient. For example, if you have only 10 samples for training, more cross-validation iterations won't magically make the model learn more effectively from such a small dataset.\n",
        "\n",
        "2. **Overfitting**: There's a risk of overfitting when increasing iterations with a small dataset. The model might memorize the limited training data instead of learning meaningful patterns. This is a concern when the dataset is tiny and the model becomes overly specific to the training samples.\n",
        "\n",
        "3. **Computational Cost**: More iterations demand more computational resources and time. If you're dealing with a significantly small dataset, the trade-off between computational cost and improved estimate quality may not be justified.\n",
        "\n",
        "**Example**: Consider a medical diagnosis dataset with only 20 patient records. If you perform 10-fold cross-validation, each fold will have just two patients in the training set. Increasing the number of cross-validation iterations can help provide a more stable estimate of model performance and reduce the risk of random variations in the data impacting the results. However, the limited data size remains a critical constraint, and more iterations won't expand the dataset itself.\n",
        "\n",
        "In summary, while increasing cross-validation iterations can enhance the reliability of estimates with small datasets, it cannot replace the need for an adequate amount of training data. It's essential to be cautious about overfitting and consider the trade-off between computational cost and improved estimate quality when working with very small datasets."
      ],
      "metadata": {
        "id": "ottcjJdRwIwS"
      }
    }
  ]
}